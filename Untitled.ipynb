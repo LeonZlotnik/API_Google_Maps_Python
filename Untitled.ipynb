{
 "cells": [
  {
   "cell_type": "code",
   "execution_count": 4,
   "metadata": {},
   "outputs": [
    {
     "name": "stdout",
     "output_type": "stream",
     "text": [
      "{\n",
      "    \"results\": [\n",
      "        {\n",
      "            \"address_components\": [\n",
      "                {\n",
      "                    \"long_name\": \"Le\\u00f3n\",\n",
      "                    \"short_name\": \"Le\\u00f3n\",\n",
      "                    \"types\": [\n",
      "                        \"locality\",\n",
      "                        \"political\"\n",
      "                    ]\n",
      "                },\n",
      "                {\n",
      "                    \"long_name\": \"Guanajuato\",\n",
      "                    \"short_name\": \"Gto.\",\n",
      "                    \"types\": [\n",
      "                        \"administrative_area_level_1\",\n",
      "                        \"political\"\n",
      "                    ]\n",
      "                },\n",
      "                {\n",
      "                    \"long_name\": \"Mexico\",\n",
      "                    \"short_name\": \"MX\",\n",
      "                    \"types\": [\n",
      "                        \"country\",\n",
      "                        \"political\"\n",
      "                    ]\n",
      "                }\n",
      "            ],\n",
      "            \"formatted_address\": \"Le\\u00f3n, Guanajuato, Mexico\",\n",
      "            \"geometry\": {\n",
      "                \"bounds\": {\n",
      "                    \"northeast\": {\n",
      "                        \"lat\": 21.2134227,\n",
      "                        \"lng\": -101.5617887\n",
      "                    },\n",
      "                    \"southwest\": {\n",
      "                        \"lat\": 21.0304049,\n",
      "                        \"lng\": -101.7702342\n",
      "                    }\n",
      "                },\n",
      "                \"location\": {\n",
      "                    \"lat\": 21.1250077,\n",
      "                    \"lng\": -101.6859605\n",
      "                },\n",
      "                \"location_type\": \"APPROXIMATE\",\n",
      "                \"viewport\": {\n",
      "                    \"northeast\": {\n",
      "                        \"lat\": 21.2134227,\n",
      "                        \"lng\": -101.5617887\n",
      "                    },\n",
      "                    \"southwest\": {\n",
      "                        \"lat\": 21.0304049,\n",
      "                        \"lng\": -101.7702342\n",
      "                    }\n",
      "                }\n",
      "            },\n",
      "            \"place_id\": \"ChIJIefm1v--K4QRJ0OlYeyVbWA\",\n",
      "            \"types\": [\n",
      "                \"locality\",\n",
      "                \"political\"\n",
      "            ]\n",
      "        }\n",
      "    ],\n",
      "    \"status\": \"OK\"\n",
      "}\n"
     ]
    }
   ],
   "source": [
    "import requests\n",
    "import json\n",
    "\n",
    "from config import api_key\n",
    "\n",
    "target_city = \"Leon,Guanajuato\"\n",
    "\n",
    "target_url = ('https://maps.googleapis.com/maps/api/geocode/json?address={0}&key={1}').format(target_city,api_key)\n",
    "\n",
    "response = requests.get(target_url).json() \n",
    "print(json.dumps(response, indent=4, sort_keys=True))"
   ]
  },
  {
   "cell_type": "code",
   "execution_count": 12,
   "metadata": {},
   "outputs": [
    {
     "data": {
      "text/plain": [
       "'Guanajuato'"
      ]
     },
     "execution_count": 12,
     "metadata": {},
     "output_type": "execute_result"
    }
   ],
   "source": [
    "State_name = response['results'][0]['address_components'][1]['long_name']\n",
    "State_name"
   ]
  },
  {
   "cell_type": "code",
   "execution_count": null,
   "metadata": {},
   "outputs": [],
   "source": []
  }
 ],
 "metadata": {
  "kernelspec": {
   "display_name": "Python 3",
   "language": "python",
   "name": "python3"
  },
  "language_info": {
   "codemirror_mode": {
    "name": "ipython",
    "version": 3
   },
   "file_extension": ".py",
   "mimetype": "text/x-python",
   "name": "python",
   "nbconvert_exporter": "python",
   "pygments_lexer": "ipython3",
   "version": "3.7.3"
  }
 },
 "nbformat": 4,
 "nbformat_minor": 2
}
